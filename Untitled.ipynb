{
 "cells": [
  {
   "cell_type": "markdown",
   "id": "260751a0-fadc-4549-9cd0-b3fc5cb130a4",
   "metadata": {},
   "source": []
  },
  {
   "cell_type": "code",
   "execution_count": 6,
   "id": "bf47ff57-8c28-4003-81ce-808999dbb5f3",
   "metadata": {
    "tags": []
   },
   "outputs": [],
   "source": [
    "# variables\n",
    "first_name = 'manny'\n",
    "last_name = 'dana'"
   ]
  },
  {
   "cell_type": "code",
   "execution_count": 8,
   "id": "86cdb3ef-6591-4214-9c7d-c2e59ea94567",
   "metadata": {
    "tags": []
   },
   "outputs": [
    {
     "name": "stdout",
     "output_type": "stream",
     "text": [
      "46\n"
     ]
    }
   ],
   "source": [
    "# e.g\n",
    "age = 41\n",
    "in_five_years = 5 \n",
    "total = age + in_five_years\n",
    "print(total)"
   ]
  },
  {
   "cell_type": "code",
   "execution_count": 9,
   "id": "e91ff628-0858-4ed1-ae24-1418d093671c",
   "metadata": {
    "tags": []
   },
   "outputs": [],
   "source": [
    "# eg of a floats in decimals\n",
    "mili_in_values = 0.0024"
   ]
  },
  {
   "cell_type": "code",
   "execution_count": 10,
   "id": "8b8abe2b-abcc-4f52-a68f-699cf84daaa2",
   "metadata": {
    "tags": []
   },
   "outputs": [
    {
     "name": "stdout",
     "output_type": "stream",
     "text": [
      "True\n"
     ]
    }
   ],
   "source": [
    "# a bolleans is a true or false\n",
    "John_is_sleeping = True\n",
    "Paul_is_not_sleepling = False\n",
    "print(True)"
   ]
  },
  {
   "cell_type": "code",
   "execution_count": 12,
   "id": "7efdb7ae-3e20-42b4-9483-c395b0435fbe",
   "metadata": {
    "tags": []
   },
   "outputs": [
    {
     "name": "stdout",
     "output_type": "stream",
     "text": [
      "john\n"
     ]
    }
   ],
   "source": [
    "name = \"john\"\n",
    "middle_name = \"mali\"\n",
    "last_name = \"zambia\"\n",
    "print(name)"
   ]
  },
  {
   "cell_type": "code",
   "execution_count": 14,
   "id": "f9a60f13-51d6-401f-afef-7e685cb98c79",
   "metadata": {
    "tags": []
   },
   "outputs": [
    {
     "ename": "NameError",
     "evalue": "name 'Last_name' is not defined",
     "output_type": "error",
     "traceback": [
      "\u001b[0;31m---------------------------------------------------------------------------\u001b[0m",
      "\u001b[0;31mNameError\u001b[0m                                 Traceback (most recent call last)",
      "Cell \u001b[0;32mIn[14], line 1\u001b[0m\n\u001b[0;32m----> 1\u001b[0m \u001b[38;5;28mprint\u001b[39m(\u001b[38;5;124m\"\u001b[39m\u001b[38;5;124mfirstname:\u001b[39m\u001b[38;5;132;01m%s\u001b[39;00m\u001b[38;5;124m middlename:\u001b[39m\u001b[38;5;132;01m%s\u001b[39;00m\u001b[38;5;124m lastname:\u001b[39m\u001b[38;5;132;01m%s\u001b[39;00m\u001b[38;5;124m\"\u001b[39m \u001b[38;5;241m%\u001b[39m(name, middle_name, Last_name))\n",
      "\u001b[0;31mNameError\u001b[0m: name 'Last_name' is not defined"
     ]
    }
   ],
   "source": [
    "print(\"firstname:%s middlename:%s lastname:%s\" %(name, middle_name, Last_name))"
   ]
  },
  {
   "cell_type": "code",
   "execution_count": null,
   "id": "979e8580-890d-406a-ae57-7de3fcf58efb",
   "metadata": {},
   "outputs": [],
   "source": []
  }
 ],
 "metadata": {
  "kernelspec": {
   "display_name": "Python 3 (ipykernel)",
   "language": "python",
   "name": "python3"
  },
  "language_info": {
   "codemirror_mode": {
    "name": "ipython",
    "version": 3
   },
   "file_extension": ".py",
   "mimetype": "text/x-python",
   "name": "python",
   "nbconvert_exporter": "python",
   "pygments_lexer": "ipython3",
   "version": "3.11.5"
  }
 },
 "nbformat": 4,
 "nbformat_minor": 5
}
